{
 "cells": [
  {
   "cell_type": "code",
   "execution_count": 17,
   "metadata": {},
   "outputs": [],
   "source": [
    "from numpy import *\n",
    "def ejercicio10(x0, t0, tf, n):\n",
    "    t = [t0]\n",
    "    x = [x0]\n",
    "    h = (tf - t0) / n\n",
    "    for i in range(1, n+1):\n",
    "        x_futuro = x[i-1] + h * (x[i-1]**2) * cos(t[i-1]) + (h**2) * 0.5 * (2 * (x[i-1] ** 3) * cos(t[i-1]) - (x[i-1])**2 * sin(t[i-1]))\n",
    "        x.append(x_futuro)\n",
    "        t.append(t[i-1] + h)\n",
    "    return array(t), array(x)"
   ]
  },
  {
   "cell_type": "code",
   "execution_count": 21,
   "metadata": {},
   "outputs": [
    {
     "name": "stdout",
     "output_type": "stream",
     "text": [
      "Estimación por Taylor con h=0,1\n",
      "Intervalos temporales: [0.0, 0.1, 0.2]\n",
      "Resultados instantaneos: [1.0, 1.11, 1.2455874248562864]\n"
     ]
    }
   ],
   "source": [
    "# Primer caso donde h = 0,1\n",
    "t0 = 0\n",
    "tf = 0.2\n",
    "n = 2\n",
    "x0 = 1\n",
    "t, x = ejercicio10(x0, t0, tf, n)\n",
    "\n",
    "print(\"Estimación por Taylor con h=0,1\")\n",
    "print(\"Intervalos temporales: {}\".format(list(t)))\n",
    "print(\"Resultados instantaneos: {}\".format(list(x)))"
   ]
  },
  {
   "cell_type": "code",
   "execution_count": 22,
   "metadata": {},
   "outputs": [
    {
     "name": "stdout",
     "output_type": "stream",
     "text": [
      "Estimación por Taylor con h=0,1\n",
      "Intervalos temporales: [0.0, 0.05, 0.1, 0.15000000000000002, 0.2]\n",
      "Resultados instantaneos: [1.0, 1.0525, 1.110660527147937, 1.1752848669372362, 1.2473290112158348]\n"
     ]
    }
   ],
   "source": [
    "# Primer caso donde h = 0,05\n",
    "t0 = 0\n",
    "tf = 0.2\n",
    "n = 4\n",
    "x0 = 1\n",
    "t, x = ejercicio10(x0, t0, tf, n)\n",
    "\n",
    "print(\"Estimación por Taylor con h=0,1\")\n",
    "print(\"Intervalos temporales: {}\".format(list(t)))\n",
    "print(\"Resultados instantaneos: {}\".format(list(x)))"
   ]
  }
 ],
 "metadata": {
  "kernelspec": {
   "display_name": "Python 3",
   "language": "python",
   "name": "python3"
  },
  "language_info": {
   "codemirror_mode": {
    "name": "ipython",
    "version": 3
   },
   "file_extension": ".py",
   "mimetype": "text/x-python",
   "name": "python",
   "nbconvert_exporter": "python",
   "pygments_lexer": "ipython3",
   "version": "3.7.4"
  }
 },
 "nbformat": 4,
 "nbformat_minor": 4
}
