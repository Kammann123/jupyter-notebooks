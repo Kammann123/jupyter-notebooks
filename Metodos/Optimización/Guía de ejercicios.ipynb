{
 "cells": [
  {
   "cell_type": "code",
   "execution_count": 66,
   "metadata": {},
   "outputs": [],
   "source": [
    "import numpy as np\n",
    "\n",
    "def golden_ratio_search(f, a, b, tol=10e-3, max_iter=1000):\n",
    "    \"\"\" Busqueda del mínimo de una función mediante el\n",
    "        método de la razón áurea. El algoritmo termina después\n",
    "        de max_iter iteraciones, o cuando la longitud del intervalo\n",
    "        de búsqueda es inferior a tol.\n",
    "        @param f: Función para optimizar\n",
    "        @param a: Cota inferior del intervalo de búsqueda\n",
    "        @param b: Cota superior del intervalo de búsqueda\n",
    "        @param tol: Precisión deseada\n",
    "        @param max_iter: Cantidad de iteraciones\n",
    "        @return i, a, b\n",
    "    \"\"\"\n",
    "    # Definimos las condiciones iniciales y parámetros\n",
    "    r = (-1 + np.sqrt(5)) / 2\n",
    "    c =  a + (b - a) * (1 - r)\n",
    "    d =  a + (b - a) * r\n",
    "    yc = f(c)\n",
    "    yd = f(d)\n",
    "    # Notifico cada iteración\n",
    "    print(f'a{0}={a} c{0}={c} d{0}={d} b{0}={b} yc{0}={yc} yd{0}={yd}\\n')\n",
    "    \n",
    "    # Empezamos a iterar hasta el máximo numero de iteraciones\n",
    "    for i in range(max_iter):\n",
    "        \n",
    "        if yd >= yc:\n",
    "            b = d\n",
    "            d = c\n",
    "            yd = yc\n",
    "            c = a + (b - a) * (1 - r)\n",
    "            yc = f(c)\n",
    "        else:\n",
    "            a = c\n",
    "            c = d\n",
    "            yc = yd\n",
    "            d = a + (b - a) * r\n",
    "            yd = f(d)\n",
    "            \n",
    "        # Notifico cada iteración\n",
    "        print(f'a{i+1}={a} c{i+1}={c} d{i+1}={d} b{i+1}={b} yc{i+1}={yc} yd{i+1}={yd}\\n')\n",
    "        \n",
    "        # En el caso en el que hayamos conseguido pasar la precisión deseada\n",
    "        if (b - a) < tol:\n",
    "            break\n",
    "    \n",
    "    # Devuelve resultados\n",
    "    return i+1, a, b"
   ]
  },
  {
   "cell_type": "code",
   "execution_count": 67,
   "metadata": {},
   "outputs": [
    {
     "name": "stdout",
     "output_type": "stream",
     "text": [
      "a0=0 c0=1.5278640450004204 d0=2.4721359549995796 b0=4 yc0=0.9614302693200105 yd0=-0.5616576373354573\n",
      "\n",
      "a1=1.5278640450004204 c1=2.4721359549995796 d1=3.0557280900008412 b1=4 yc1=-0.5616576373354573 yd1=-0.46742081059554813\n",
      "\n",
      "a2=1.5278640450004204 c2=2.1114561800016824 d2=2.4721359549995796 b2=3.0557280900008412 yc2=0.3292049676759298 yd2=-0.5616576373354573\n",
      "\n",
      "a3=2.1114561800016824 c3=2.4721359549995796 d3=2.6950483150029445 b3=3.0557280900008412 yc3=-0.5616576373354573 yd3=-0.9641954083186008\n",
      "\n",
      "a4=2.4721359549995796 c4=2.6950483150029445 d4=2.8328157299974763 b4=3.0557280900008412 yc4=-0.9641954083186008 yd4=-0.9764138886348016\n",
      "\n",
      "a5=2.6950483150029445 c5=2.8328157299974763 d5=2.9179606750063094 b5=3.0557280900008412 yc5=-0.9764138886348016 yd5=-0.859257203997432\n",
      "\n",
      "a6=2.6950483150029445 c6=2.780193260011777 d6=2.8328157299974763 b6=2.9179606750063094 yc6=-0.9996220255940037 yd6=-0.9764138886348016\n",
      "\n",
      "a7=2.6950483150029445 c7=2.7476707849886437 d7=2.780193260011777 b7=2.8328157299974763 yc7=-0.9961970493403389 yd7=-0.9996220255940037\n",
      "\n",
      "a8=2.7476707849886437 c8=2.780193260011777 d8=2.800293254974343 b8=2.8328157299974763 yc8=-0.9996220255940037 yd8=-0.9950576174297295\n",
      "\n",
      "a9=2.7476707849886437 c9=2.7677707799512095 d9=2.780193260011777 b9=2.800293254974343 yc9=-0.9998625694859193 yd9=-0.9996220255940037\n",
      "\n",
      "a10=2.7476707849886437 c10=2.760093265049211 d10=2.7677707799512095 b10=2.780193260011777 yc10=-0.9990468636357659 yd10=-0.9998625694859193\n",
      "\n",
      "a11=2.760093265049211 c11=2.7677707799512095 d11=2.7725157451097786 b11=2.780193260011777 yc11=-0.9998625694859193 yd11=-0.999999975928952\n",
      "\n",
      "a12=2.7677707799512095 c12=2.7725157451097786 d12=2.775448294853208 b12=2.780193260011777 yc12=-0.999999975928952 yd12=-0.9999435659054124\n",
      "\n",
      "a13=2.7677707799512095 c13=2.7707033296946393 d13=2.7725157451097786 b13=2.775448294853208 yc13=-0.9999807653537013 yd13=-0.999999975928952\n",
      "\n",
      "a14=2.7707033296946393 c14=2.7725157451097786 d14=2.7736358794380687 b14=2.775448294853208 yc14=-0.999999975928952 yd14=-0.999991215344598\n",
      "\n",
      "a15=2.7707033296946393 c15=2.7718234640229293 d15=2.7725157451097786 b15=2.7736358794380687 yc15=-0.9999975040289207 yd15=-0.999999975928952\n",
      "\n",
      "a16=2.7718234640229293 c16=2.7725157451097786 d16=2.77294359835122 b16=2.7736358794380687 yc16=-0.999999975928952 yd16=-0.9999984925458552\n",
      "\n",
      "a17=2.7718234640229293 c17=2.7722513172643706 d17=2.7725157451097786 b17=2.77294359835122 yc17=-0.99999974229398 yd17=-0.999999975928952\n",
      "\n",
      "a18=2.7722513172643706 c18=2.7725157451097786 d18=2.7726791705058123 b18=2.77294359835122 yc18=-0.999999975928952 yd18=-0.9999996809689181\n",
      "\n",
      "a19=2.7722513172643706 c19=2.7724147426604047 d19=2.7725157451097786 b19=2.7726791705058123 yc19=-0.9999999903903639 yd19=-0.999999975928952\n",
      "\n",
      "a20=2.7722513172643706 c20=2.7723523197137445 d20=2.7724147426604047 b20=2.7725157451097786 yc20=-0.9999999352329743 yd20=-0.9999999903903639\n",
      "\n",
      "a21=2.7723523197137445 c21=2.7724147426604047 d21=2.7724533221631185 b21=2.7725157451097786 yc21=-0.9999999903903639 yd21=-0.9999999999982434\n",
      "\n",
      "a22=2.7724147426604047 c22=2.7724533221631185 d22=2.772477165607065 b22=2.7725157451097786 yc22=-0.9999999999982434 yd22=-0.9999999965845707\n",
      "\n",
      "a23=2.7724147426604047 c23=2.772438586104351 d23=2.7724533221631185 b23=2.772477165607065 yc23=-0.9999999985359415 yd23=-0.9999999999982434\n",
      "\n",
      "a24=2.772438586104351 c24=2.7724533221631185 d24=2.7724624295482974 b24=2.772477165607065 yc24=-0.9999999999982434 yd24=-0.9999999995375985\n",
      "\n",
      "a25=2.772438586104351 c25=2.7724476934895295 d25=2.7724533221631185 b25=2.7724624295482974 yc25=-0.9999999997617816 yd25=-0.9999999999982434\n",
      "\n",
      "a26=2.7724476934895295 c26=2.7724533221631185 d26=2.7724568008747084 b26=2.7724624295482974 yc26=-0.9999999999982434 yd26=-0.9999999999453216\n",
      "\n",
      "a27=2.7724476934895295 c27=2.7724511722011194 d27=2.7724533221631185 b27=2.7724568008747084 yc27=-0.9999999999549153 yd27=-0.9999999999982434\n",
      "\n",
      "a28=2.7724511722011194 c28=2.7724533221631185 d28=2.772454650912709 b28=2.7724568008747084 yc28=-0.9999999999982434 yd28=-0.9999999999959787\n",
      "\n",
      "a29=2.7724511722011194 c29=2.7724525009507093 d29=2.7724533221631185 b29=2.772454650912709 yc29=-0.9999999999885497 yd29=-0.9999999999982434\n",
      "\n",
      "a30=2.7724525009507093 c30=2.7724533221631185 d30=2.7724538297002996 b30=2.772454650912709 yc30=-0.9999999999982434 yd30=-0.9999999999999972\n",
      "\n",
      "a31=2.7724533221631185 c31=2.7724538297002996 d31=2.7724541433755276 b31=2.772454650912709 yc31=-0.9999999999999972 yd31=-0.9999999999994625\n",
      "\n",
      "a32=2.7724533221631185 c32=2.772453635838347 d32=2.7724538297002996 b32=2.7724541433755276 yc32=-0.9999999999997093 yd32=-0.9999999999999972\n",
      "\n",
      "El minimo del Ejercicio 2 luego de 32 iteraciones se encuentra entre a=2.7724533221631185 b=2.7724541433755276\n"
     ]
    }
   ],
   "source": [
    "# Ejercicio 2\n",
    "f = lambda x: np.cos(x**2 - 2*x + 1)\n",
    "a = 0\n",
    "b = 4\n",
    "i, a, b = golden_ratio_search(f, a, b, tol=1e-6)\n",
    "\n",
    "# Resultado\n",
    "print(f'El minimo del Ejercicio 2 luego de {i} iteraciones se encuentra entre a={a} b={b}')"
   ]
  },
  {
   "cell_type": "code",
   "execution_count": 33,
   "metadata": {},
   "outputs": [
    {
     "name": "stdout",
     "output_type": "stream",
     "text": [
      "a1=-1 c1=-0.2360679774997898 d1=0.2360679774997898 b1=1 yc1=1.0279936864491186 yd1=1.0279936864491186\n",
      "\n",
      "a2=-1 c2=-0.5278640450004206 d2=-0.2360679774997898 b2=0.2360679774997898 yc2=1.14258544274237 yd2=1.0279936864491186\n",
      "\n",
      "a3=-0.5278640450004206 c3=-0.2360679774997898 d3=-0.05572809000084111 b3=0.2360679774997898 yc3=1.0279936864491186 yd3=1.001553211918995\n",
      "\n",
      "El minimo del Ejercicio 2 luego de 3 iteraciones se encuentra entre a=-0.2360679774997898 b=0.2360679774997898\n"
     ]
    }
   ],
   "source": [
    "# Ejercicio 3\n",
    "a = -1\n",
    "b = 1\n",
    "f = lambda x: np.cosh(x)\n",
    "i, a, b = golden_ratio_search(f, a, b, max_iter=3, tol=1e-6)\n",
    "\n",
    "# Resultado\n",
    "print(f'El minimo del Ejercicio 2 luego de {i} iteraciones se encuentra entre a={a} b={b}')"
   ]
  },
  {
   "cell_type": "code",
   "execution_count": 57,
   "metadata": {},
   "outputs": [],
   "source": [
    "import numpy as np\n",
    "\n",
    "def quadratic_aproximation(f, xo, ho):\n",
    "    \"\"\" Búsqueda del mínimo de una función mediante búsqueda lineal utilizando\n",
    "        una interpolación cuadrática, donde se itera hasta encontrar una sonrisa,\n",
    "        y luego aproximamos el salto.\n",
    "        @param f: La función cuyo minimo buscamos\n",
    "        @param xo: El punto inicial del intervalo\n",
    "        @param ho: El tamaña del salto\n",
    "    \"\"\"\n",
    "    # Definimos los parámetros y condiciones iniciales\n",
    "    po = (xo, f(xo))\n",
    "    p1 = (po[0] + ho, f(po[0] + ho))\n",
    "    p2 = (p1[0] + ho, f(p1[0] + ho))\n",
    "    \n",
    "    # Iteramos en la búsqueda del mínimo, en realidad,\n",
    "    # buscamos formar una sonrisa!\n",
    "    found = False\n",
    "    while not found:\n",
    "        print(f'Iterando ({po[0]}, {po[1]}) - ({p1[0]}, {p1[1]}) - ({p2[0]}, {p2[1]})')\n",
    "        if po[1] < p1[1] < p2[1]:\n",
    "            ho = ho / 2\n",
    "            p2 = p1\n",
    "            p1 = (po[0] + ho, f(po[0] + ho))\n",
    "        elif p2[1] < p1[1] < po[1]:\n",
    "            ho = ho * 2\n",
    "            p1 = p2\n",
    "            p2 = (p1[0] + ho, f(p1[0] + ho))\n",
    "        else:\n",
    "            found = True\n",
    "    \n",
    "    # Cuando lo encontramos, establecemos una aproximación\n",
    "    hmin = ho * (4 * p1[1] - 3 * po[1] - p2[1]) / (4 * p1[1] - 2 * po[1] - 2 * p2[1])\n",
    "    return po[0] + hmin, hmin"
   ]
  },
  {
   "cell_type": "code",
   "execution_count": 59,
   "metadata": {},
   "outputs": [
    {
     "name": "stdout",
     "output_type": "stream",
     "text": [
      "Iterando (3, 0.1411200080598672) - (3.5, -0.35078322768961984) - (4.0, -0.7568024953079282)\n",
      "Iterando (3, 0.1411200080598672) - (4.0, -0.7568024953079282) - (5.0, -0.9589242746631385)\n",
      "Iterando (3, 0.1411200080598672) - (5.0, -0.9589242746631385) - (7.0, 0.6569865987187891)\n",
      "El minimo se encuentra aproximadamente en 4.810060711238418 con paso 1.8100607112384182\n"
     ]
    }
   ],
   "source": [
    "# Ejercicio 4\n",
    "f = lambda x: np.sin(x)\n",
    "xo = 3\n",
    "ho = 0.5\n",
    "\n",
    "x, hmin = quadratic_aproximation(f, xo, ho)\n",
    "\n",
    "print(f'El minimo se encuentra aproximadamente en {x} con paso {hmin}')"
   ]
  },
  {
   "cell_type": "code",
   "execution_count": 72,
   "metadata": {},
   "outputs": [],
   "source": [
    "import numpy as np\n",
    "\n",
    "def steepest_descent(f, grad, xo, n):\n",
    "    \"\"\" Búsqueda del mínimo de la función de campo escalar f,\n",
    "        dado su gradiente y un punto inicial para partir. Además,\n",
    "        se define una cantidad máxima de iteraciones.\n",
    "        @param f: Función a optimizar\n",
    "        @param grad: Gradiente de la función a optimizar\n",
    "        @param xo: Punto inicial\n",
    "        @param n: Cantidad de pasos máximos\n",
    "    \"\"\"\n",
    "    \n",
    "    # Condiciones iniciales y parámetros\n",
    "    x = xo\n",
    "    \n",
    "    for i in range(n):\n",
    "        # Calculo la dirección de descenso\n",
    "        d = -grad(x)\n",
    "        \n",
    "        # Busqueda lineal por aproximación cuadrática de la longitud del paso\n",
    "        g = lambda alfa: f(x + alfa * d)\n",
    "        alfa_min, h_min = quadratic_aproximation(g, 0, 1)\n",
    "        \n",
    "        # Calculo la siguiente posición\n",
    "        x = x + alfa_min * d\n",
    "        \n",
    "        print(f'Iteración {i+1}: x({i+1}) = {x}')\n",
    "    \n",
    "    # Retorna posición final\n",
    "    return x"
   ]
  },
  {
   "cell_type": "code",
   "execution_count": 81,
   "metadata": {},
   "outputs": [
    {
     "name": "stdout",
     "output_type": "stream",
     "text": [
      "Iterando (0, 1.0986122886681098) - (1, 0.8528693612145746) - (2, 2.7046649284644184)\n",
      "Iteración 1: x(1) = [-0.12352242 -0.12352242]\n",
      "Resultado del ejercicio 5 x=[-0.12352242 -0.12352242]\n"
     ]
    }
   ],
   "source": [
    "# Ejercicio 5\n",
    "f = lambda x: np.log(1 + x[0]**2 + x[1]**2)\n",
    "grad = lambda x: 2 * np.array([x[0], x[1]]) / f(x)\n",
    "xo = np.array([1, 1])\n",
    "\n",
    "x = steepest_descent(f, grad, xo, 1)\n",
    "\n",
    "print(f\"Resultado del ejercicio 5 x={x}\")"
   ]
  },
  {
   "cell_type": "code",
   "execution_count": 82,
   "metadata": {},
   "outputs": [
    {
     "name": "stdout",
     "output_type": "stream",
     "text": [
      "Iterando (0, 7.38905609893065) - (1, 7.75855590906839e+164) - (2, inf)\n",
      "Iterando (0, 7.38905609893065) - (0.5, 2.856500904344902e+35) - (1, 7.75855590906839e+164)\n",
      "Iterando (0, 7.38905609893065) - (0.25, 2024762.1983447538) - (0.5, 2.856500904344902e+35)\n",
      "Iterando (0, 7.38905609893065) - (0.125, 4.202638974399466) - (0.25, 2024762.1983447538)\n",
      "Iteración 1: x(1) = [-0.07636508  0.07636508]\n",
      "Resultado del ejercicio 6 x=[-0.07636508  0.07636508]\n"
     ]
    },
    {
     "name": "stderr",
     "output_type": "stream",
     "text": [
      "C:\\ProgramData\\Miniconda3\\lib\\site-packages\\ipykernel_launcher.py:2: RuntimeWarning: overflow encountered in exp\n",
      "  \n"
     ]
    }
   ],
   "source": [
    "# Ejercicio 6\n",
    "f = lambda x: np.exp(x[0]**2 + x[1]**2)\n",
    "grad = lambda x: np.array([2 * x[0], 2 * x[1]]) * f(x)\n",
    "xo = np.array([-1, 1])\n",
    "\n",
    "x = steepest_descent(f, grad, xo, 1)\n",
    "\n",
    "print(f\"Resultado del ejercicio 6 x={x}\")"
   ]
  },
  {
   "cell_type": "code",
   "execution_count": 120,
   "metadata": {},
   "outputs": [],
   "source": [
    "import numpy as np\n",
    "from matplotlib import pyplot as plt\n",
    "\n",
    "def nelder_mead(f, x, n):\n",
    "    \"\"\" Búsqueda del mínimo de una función de campo escalar\n",
    "        mediante el método simplex o nelder-mead.\n",
    "        @param f: Función de campo escalar\n",
    "        @param x: Vector de n+1 puntos del simplex\n",
    "        @param n: Cantidad de iteraciones\n",
    "    \"\"\"\n",
    "    x = np.asarray(sorted(x, key=lambda xi: f(xi)))\n",
    "    history = [x]\n",
    "    for i in range(n):\n",
    "        # Ordenamos \n",
    "        x = np.asarray(sorted(x, key=lambda xi: f(xi)))\n",
    "        \n",
    "        # Definimos los puntos O, B, P dentro del vector n+1 dimensional\n",
    "        O = x[0]\n",
    "        B = x[-2]\n",
    "        P = x[-1]\n",
    "        \n",
    "        print(f'Iteración {i+1} O={O} P={P} B={B}')\n",
    "\n",
    "        # Primer paso, realizamos la REFLEXIÓN, calculando\n",
    "        # la posición del baricentro M, y buscando la reflexión R\n",
    "        M = (O + B) / 2\n",
    "        R = 2 * M - P\n",
    "        \n",
    "        print(f'Reflexión: M={M} R={R}')\n",
    "        \n",
    "        if f(R) < f(B):\n",
    "            if f(O) < f(R):\n",
    "                # Es peor que el óptimo pero mejor que el peor\n",
    "                print('La reflexión no era mejor que el óptimo')\n",
    "                x[-1] = R\n",
    "            else:\n",
    "                print('La reflexión era mejor el óptimo')\n",
    "                # Es mejor que el óptimo, EXPANSIÓN\n",
    "                E = 3 * M - 2 * P\n",
    "                print(f'Expansión: E={E}')\n",
    "                if f(E) < f(O):\n",
    "                    # Es mejor que el óptimo\n",
    "                    print('La expansión era mejor el óptimo')\n",
    "                    x[-1] = E\n",
    "                else:\n",
    "                    # Es peor que el óptimo\n",
    "                    print('La expansión no era mejor el óptimo')\n",
    "                    x[-1] = R\n",
    "        else:\n",
    "            if f(R) < f(P):\n",
    "                # No es mejor que el bueno, pero sí es mejor\n",
    "                # que el peor\n",
    "                print('La reflexión, al menos, es mejor que el peor')\n",
    "                x[-1] = R\n",
    "            else:\n",
    "                # Como la reflexión y expansión no sirven,\n",
    "                # se prueba con la CONTRACCIÓN\n",
    "                C1 = (R + M) / 2\n",
    "                C2 = (P + M) / 2\n",
    "                C =  C1 if f(C1) < f(C2) else C2\n",
    "                print(f'Contracción: C1={C1} C2={C2} C={C}')\n",
    "                \n",
    "                if f(C) < f(P):\n",
    "                    # Si la contracción es mejor que el peor\n",
    "                    print('La contracción era mejor que el peor')\n",
    "                    x[-1] = C\n",
    "                else:\n",
    "                    # Si la contracción no es mejor que el peor\n",
    "                    # procedo al ENCOGIMIENTO\n",
    "                    print('La contracción no era mejor, procedemos a encoger')\n",
    "                    for j in range(1, len(x)):\n",
    "                        x[j] = (x[j] + O) / 2\n",
    "                \n",
    "        # Guardamos historia\n",
    "        print(x)\n",
    "        history.append(x)\n",
    "        \n",
    "    # Retorno el simplex resultante\n",
    "    return x, history\n",
    "\n",
    "def plot_nelder_mead(history):\n",
    "    \"\"\" Función para dibujar los puntos del simplex a lo largo\n",
    "        del algoritmo. Esta función no es de mi propiedad intelectual,\n",
    "        fue alterada del código de Gonzalo Davidov y Nicolás Trozzo,\n",
    "        si estas leyendo esto que al pedo estas.\n",
    "        @param history: Lista de simplex en cada iteración\n",
    "    \"\"\"\n",
    "    colors = ['r', 'g', 'b', 'c', 'm', 'y']\n",
    "    for k in range(len(history)):\n",
    "        x = history[k]\n",
    "        plt.scatter(x[:,0], x[:,1], c=colors[k % len(colors)], label=f'Iteracion {k}')\n",
    "        t = plt.Polygon(x, color=colors[k % len(colors)], fill=False)\n",
    "        plt.gca().add_patch(t)\n",
    "    plt.legend()\n",
    "    plt.show()"
   ]
  },
  {
   "cell_type": "code",
   "execution_count": 123,
   "metadata": {},
   "outputs": [
    {
     "name": "stdout",
     "output_type": "stream",
     "text": [
      "Iteración 1 O=[3. 0.] P=[0. 3.] B=[3. 3.]\n",
      "Reflexión: M=[3.  1.5] R=[6. 0.]\n",
      "Contracción: C1=[4.5  0.75] C2=[1.5  2.25] C=[1.5  2.25]\n",
      "La contracción era mejor que el peor\n",
      "[[3.   0.  ]\n",
      " [3.   3.  ]\n",
      " [1.5  2.25]]\n",
      "Iteración 2 O=[1.5  2.25] P=[3. 3.] B=[3. 0.]\n",
      "Reflexión: M=[2.25  1.125] R=[ 1.5  -0.75]\n",
      "La reflexión, al menos, es mejor que el peor\n",
      "[[ 1.5   2.25]\n",
      " [ 3.    0.  ]\n",
      " [ 1.5  -0.75]]\n",
      "Iteración 3 O=[1.5  2.25] P=[ 1.5  -0.75] B=[3. 0.]\n",
      "Reflexión: M=[2.25  1.125] R=[3. 3.]\n",
      "Contracción: C1=[2.625  2.0625] C2=[1.875  0.1875] C=[1.875  0.1875]\n",
      "La contracción era mejor que el peor\n",
      "[[1.5    2.25  ]\n",
      " [3.     0.    ]\n",
      " [1.875  0.1875]]\n",
      "Iteración 4 O=[1.875  0.1875] P=[3. 0.] B=[1.5  2.25]\n",
      "Reflexión: M=[1.6875  1.21875] R=[0.375  2.4375]\n",
      "Contracción: C1=[1.03125  1.828125] C2=[2.34375  0.609375] C=[2.34375  0.609375]\n",
      "La contracción era mejor que el peor\n",
      "[[1.875    0.1875  ]\n",
      " [1.5      2.25    ]\n",
      " [2.34375  0.609375]]\n"
     ]
    },
    {
     "data": {
      "image/png": "[encoded data removed]",
      "text/plain": [
       "<Figure size 432x288 with 1 Axes>"
      ]
     },
     "metadata": {
      "needs_background": "light"
     },
     "output_type": "display_data"
    }
   ],
   "source": [
    "# Ejercicio 7\n",
    "f = lambda x: (x[0] - 2)**2 + (x[1] - 1)**2\n",
    "xo = np.array([\n",
    "    np.array([0, 3]),\n",
    "    np.array([3, 0]),\n",
    "    np.array([3, 3])\n",
    "], dtype=float)\n",
    "\n",
    "x, history = nelder_mead(f, xo, 4)\n",
    "plot_nelder_mead(history)"
   ]
  },
  {
   "cell_type": "code",
   "execution_count": 125,
   "metadata": {},
   "outputs": [
    {
     "name": "stdout",
     "output_type": "stream",
     "text": [
      "Iteración 1 O=[0. 1.] P=[ 1. -2.] B=[-1. -1.]\n",
      "Reflexión: M=[-0.5  0. ] R=[-2.  2.]\n",
      "Contracción: C1=[-1.25  1.  ] C2=[ 0.25 -1.  ] C=[ 0.25 -1.  ]\n",
      "La contracción era mejor que el peor\n",
      "[[ 0.    1.  ]\n",
      " [-1.   -1.  ]\n",
      " [ 0.25 -1.  ]]\n",
      "Iteración 2 O=[0. 1.] P=[-1. -1.] B=[ 0.25 -1.  ]\n",
      "Reflexión: M=[0.125 0.   ] R=[1.25 1.  ]\n",
      "Contracción: C1=[0.6875 0.5   ] C2=[-0.4375 -0.5   ] C=[-0.4375 -0.5   ]\n",
      "La contracción era mejor que el peor\n",
      "[[ 0.      1.    ]\n",
      " [ 0.25   -1.    ]\n",
      " [-0.4375 -0.5   ]]\n"
     ]
    },
    {
     "data": {
      "image/png": "[encoded data removed]",
      "text/plain": [
       "<Figure size 432x288 with 1 Axes>"
      ]
     },
     "metadata": {
      "needs_background": "light"
     },
     "output_type": "display_data"
    }
   ],
   "source": [
    "# Ejercicio 8\n",
    "f = lambda x: np.exp(x[0]**2 + x[1]**2)\n",
    "xo = np.array([\n",
    "    np.array([-1, -1]),\n",
    "    np.array([0, 1]),\n",
    "    np.array([1, -2])\n",
    "], dtype=float)\n",
    "\n",
    "x, history = nelder_mead(f, xo, 2)\n",
    "plot_nelder_mead(history)"
   ]
  },
  {
   "cell_type": "code",
   "execution_count": 129,
   "metadata": {},
   "outputs": [
    {
     "name": "stdout",
     "output_type": "stream",
     "text": [
      "Iteración 1 O=[-1. -2.] P=[ 2. -2.] B=[0. 2.]\n",
      "Reflexión: M=[-0.5  0. ] R=[-3.  2.]\n",
      "Contracción: C1=[-1.75  1.  ] C2=[ 0.75 -1.  ] C=[ 0.75 -1.  ]\n",
      "La contracción era mejor que el peor\n",
      "[[-1.   -2.  ]\n",
      " [ 0.    2.  ]\n",
      " [ 0.75 -1.  ]]\n",
      "Iteración 2 O=[-1. -2.] P=[0. 2.] B=[ 0.75 -1.  ]\n",
      "Reflexión: M=[-0.125 -1.5  ] R=[-0.25 -5.  ]\n",
      "La reflexión era mejor el óptimo\n",
      "Expansión: E=[-0.375 -8.5  ]\n",
      "La expansión era mejor el óptimo\n",
      "[[-1.    -2.   ]\n",
      " [ 0.75  -1.   ]\n",
      " [-0.375 -8.5  ]]\n",
      "Iteración 3 O=[-0.375 -8.5  ] P=[ 0.75 -1.  ] B=[-1. -2.]\n",
      "Reflexión: M=[-0.6875 -5.25  ] R=[-2.125 -9.5  ]\n",
      "Contracción: C1=[-1.40625 -7.375  ] C2=[ 0.03125 -3.125  ] C=[ 0.03125 -3.125  ]\n",
      "La contracción era mejor que el peor\n",
      "[[-0.375   -8.5    ]\n",
      " [-1.      -2.     ]\n",
      " [ 0.03125 -3.125  ]]\n"
     ]
    },
    {
     "data": {
      "image/png": "[encoded data removed]",
      "text/plain": [
       "<Figure size 432x288 with 1 Axes>"
      ]
     },
     "metadata": {
      "needs_background": "light"
     },
     "output_type": "display_data"
    }
   ],
   "source": [
    "# Ejercicio 9\n",
    "f = lambda x: (x[0]**2) * (x[1]**2) + 3 * x[0] + 3 * x[1] + 5\n",
    "xo = np.array([\n",
    "    np.array([-1, -2]),\n",
    "    np.array([2, -2]),\n",
    "    np.array([0, 2])\n",
    "], dtype=float)\n",
    "\n",
    "x, history = nelder_mead(f, xo, 3)\n",
    "plot_nelder_mead(history)"
   ]
  }
 ],
 "metadata": {
  "kernelspec": {
   "display_name": "Python 3",
   "language": "python",
   "name": "python3"
  },
  "language_info": {
   "codemirror_mode": {
    "name": "ipython",
    "version": 3
   },
   "file_extension": ".py",
   "mimetype": "text/x-python",
   "name": "python",
   "nbconvert_exporter": "python",
   "pygments_lexer": "ipython3",
   "version": "3.7.4"
  }
 },
 "nbformat": 4,
 "nbformat_minor": 4
}
