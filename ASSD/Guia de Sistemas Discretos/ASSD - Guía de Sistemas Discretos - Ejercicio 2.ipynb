{
 "cells": [
  {
   "cell_type": "markdown",
   "metadata": {},
   "source": [
    "# Guía de Sistemas Discretos: Ejercicio 02\n",
    "## Análisis de Señales y Sistemas Digitales\n",
    "\n",
    "### Grupo 2\n",
    "* Francois, Matías\n",
    "* Gaytan, Joaquín Oscar\n",
    "* Kammann, Lucas Agustín\n",
    "* Maselli, Carlos Javier\n",
    "* Trozzo, Rafael Nicolás\n",
    "\n",
    "---------------------------------\n",
    "Se pide que, dado el siguiente sistema de tiempo discreto, se encuentra la ecuación a diferencias que lo caracteriza:\n",
    "\n",
    "![title](ejercicio_2.png)"
   ]
  },
  {
   "cell_type": "markdown",
   "metadata": {},
   "source": [
    "# Resolución\n",
    "En primer lugar, desde un punto de vista temporal, definir la señal de salida requiere de definir una señal auxiliar o intermedia en el punto medio del sistema, ya que esa señal es realimentada. A partir de aquí se consideran $x, y$ señales de tiempo discreto donde $x(n) = x_T(n \\cdot T)$ y $y(n) = y_T(n \\cdot T)$ para caracterizar el muestreo en el tiempo de las señales continuas.\n",
    "\n",
    "\\begin{align}\n",
    "    & y(n) = p(n) + p(n-1) \\\\\n",
    "    & p(n) = x(n) + p(n-1) - \\frac{1}{2} \\cdot p(n-2)\n",
    "\\end{align}\n",
    "\n",
    "Luego, es necesario para poder simplificar este sistema descripto por dos ecuaciones separadas, aplicar diferentes desplazamientos temporales para poder encontrar combinaciones lineales que permitan eliminar la señal auxiliar utilizada.\n",
    "\n",
    "\\begin{align}\n",
    "    & y(n) = p(n) + p(n-1) \\\\\n",
    "    & y(n-1) = p(n-1) + p(n-2) \\\\\n",
    "    & y(n-2) = p(n-2) + p(n-3) \\\\\n",
    "    & p(n) = x(n) + p(n-1) - \\frac{1}{2} \\cdot p(n-2) \\\\\n",
    "    & p(n-1) = x(n-1) + p(n-2) - \\frac{1}{2} \\cdot p(n-3) \\\\\n",
    "    & p(n-2) = x(n-2) + p(n-3) - \\frac{1}{2} \\cdot p(n-4)\n",
    "\\end{align}\n",
    "\n",
    "Finalmente, se propone realizar la siguiente combinación para reducir:\n",
    "\n",
    "\\begin{align}\n",
    "    y(n) + \\frac{1}{2} \\cdot y(n-2) - y(n - 1) & = p(n) + p(n-1) + \\frac{1}{2} \\cdot \\left( p(n-2) + p(n-3) \\right) - \\left( p(n-1) + p(n-2) \\right) \\\\\n",
    "    & = p(n) + \\frac{1}{2} \\cdot (p(n-3)-p(n-2)) \\\\\n",
    "    & = x(n) + p(n-1) - \\frac{1}{2} \\cdot p(n-2) + \\frac{1}{2} \\cdot (p(n-3)-p(n-2)) \\\\\n",
    "    & = x(n) + x(n-1) + p(n-2) - \\frac{1}{2} \\cdot p(n-3) - p(n-2) + \\frac{p(n-3)}{2} \\\\\n",
    "    & = x(n) + x(n-1)\n",
    "\\end{align} \n",
    "\n",
    "Por lo tanto,\n",
    "\n",
    "\\begin{equation}\n",
    "    y(n) + \\frac{1}{2} \\cdot y(n-2) - y(n - 1) = x(n) + x(n-1) \n",
    "\\end{equation}"
   ]
  }
 ],
 "metadata": {
  "kernelspec": {
   "display_name": "Python 3",
   "language": "python",
   "name": "python3"
  },
  "language_info": {
   "codemirror_mode": {
    "name": "ipython",
    "version": 3
   },
   "file_extension": ".py",
   "mimetype": "text/x-python",
   "name": "python",
   "nbconvert_exporter": "python",
   "pygments_lexer": "ipython3",
   "version": "3.7.4"
  }
 },
 "nbformat": 4,
 "nbformat_minor": 4
}
