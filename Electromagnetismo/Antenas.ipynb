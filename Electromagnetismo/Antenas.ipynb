{
 "cells": [
  {
   "cell_type": "code",
   "execution_count": 6,
   "metadata": {},
   "outputs": [],
   "source": [
    "import numpy as np\n",
    "\n",
    "def M(tau, eps):\n",
    "    \"\"\" Calcula el vector posición M sobre la esfera de Poincaré\n",
    "        utilizando la longitud y latitud que fueron obtenidas a partir\n",
    "        de la de terminación del estado de polarización de la antena\n",
    "        u onda electromagnética.\n",
    "        @param tau: Longitud / 2\n",
    "        @param eps: Latitud / 2\n",
    "    \"\"\"\n",
    "    return np.array(\n",
    "        [\n",
    "            np.cos(2*tau) * np.cos(2*eps),\n",
    "            np.cos(2*eps) * np.sin(2*tau),\n",
    "            np.sin(2*tau) * np.sin(2*eps)\n",
    "        ]\n",
    "    )\n",
    "\n",
    "def PLF(M_o, M_a):\n",
    "    \"\"\" Calcula la pérdida por desadaptación de polarización\n",
    "        entre la onda electromagnetica y la antena, en dB.\n",
    "        @param M_o: El vector M en la esfera poincaré de la onda\n",
    "        @param M_a: El vector M en la esfera poincaré de la antena\n",
    "    \"\"\"\n",
    "    return 10 * np.log( (M_o @ M_a + 1) / 2 )"
   ]
  },
  {
   "cell_type": "code",
   "execution_count": 7,
   "metadata": {},
   "outputs": [
    {
     "name": "stdout",
     "output_type": "stream",
     "text": [
      "El vector M de la onda [0.88235694 0.         0.        ]\n",
      "El vector M de la antena [ 5.40287801e-17  8.82356941e-01 -4.70580736e-01]\n",
      "PLF = -6.931471805599453\n"
     ]
    }
   ],
   "source": [
    "# Ejercicio 9.g\n",
    "tau_o = 0\n",
    "eps_o = 14.036\n",
    "\n",
    "tau_a = 45\n",
    "eps_a = -14.036\n",
    "\n",
    "M_o = M(np.radians(tau_o), np.radians(eps_o))\n",
    "M_a = M(np.radians(tau_a), np.radians(eps_a))\n",
    "\n",
    "print(f'El vector M de la onda {M_o}')\n",
    "print(f'El vector M de la antena {M_a}')\n",
    "print(f'PLF = {PLF(M_o, M_a)}')"
   ]
  }
 ],
 "metadata": {
  "kernelspec": {
   "display_name": "Python 3",
   "language": "python",
   "name": "python3"
  },
  "language_info": {
   "codemirror_mode": {
    "name": "ipython",
    "version": 3
   },
   "file_extension": ".py",
   "mimetype": "text/x-python",
   "name": "python",
   "nbconvert_exporter": "python",
   "pygments_lexer": "ipython3",
   "version": "3.8.5"
  }
 },
 "nbformat": 4,
 "nbformat_minor": 4
}
