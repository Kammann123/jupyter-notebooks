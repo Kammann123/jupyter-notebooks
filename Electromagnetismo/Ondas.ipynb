{
 "cells": [
  {
   "cell_type": "markdown",
   "metadata": {},
   "source": [
    "## Funciones y parámetros generales de Ondas Electromagnéticas"
   ]
  },
  {
   "cell_type": "code",
   "execution_count": 46,
   "metadata": {},
   "outputs": [],
   "source": [
    "import math\n",
    "import cmath\n",
    "\n",
    "# Definición de constantes\n",
    "mu_0 = 4 * math.pi * 10**-7\n",
    "eps_0 = 8.85 * 10**-12\n",
    "eta_0 = math.sqrt(mu_0 / eps_0)\n",
    "\n",
    "\n",
    "def alpha(omega, mu, epsilon, sigma):\n",
    "    \"\"\" Calcula el parámetro de la constante de atenuación para una onda en un medio cualquiera.\n",
    "        @param omega      Frecuencia angular de la onda\n",
    "        @param mu         Permeabilidad del medio\n",
    "        @param epsilon    Permitividad del medio\n",
    "        @param sigma      Conductividad del medio\n",
    "        @return alpha     Constante de atenuación del medio\n",
    "    \"\"\"\n",
    "    return omega * math.sqrt(mu * epsilon / 2) * math.sqrt( math.sqrt(1 + (sigma / omega / epsilon)**2) - 1)\n",
    "\n",
    "\n",
    "def beta(omega, mu, epsilon, sigma):\n",
    "    \"\"\" Calcula el parámetro de la constante de fase para una onda en un medio cualquiera.\n",
    "        @param omega      Frecuencia angular de la onda\n",
    "        @param mu         Permeabilidad del medio\n",
    "        @param epsilon    Permitividad del medio\n",
    "        @param sigma      Conductividad del medio\n",
    "        @return beta     Constante de fase del medio\n",
    "    \"\"\"\n",
    "    return omega * math.sqrt(mu * epsilon / 2) * math.sqrt( math.sqrt(1 + (sigma / omega / epsilon)**2) + 1)\n",
    "\n",
    "def impedance(omega, mu, epsilon, sigma):\n",
    "    \"\"\" Calcula la impedancia intrínseca del medio.\n",
    "        @param omega      Frecuencia angular de la onda\n",
    "        @param mu         Permeabilidad del medio\n",
    "        @param epsilon    Permitividad del medio\n",
    "        @param sigma      Conductividad del medio\n",
    "        @return eta       Impedancia intrínseca del medio\n",
    "    \"\"\"\n",
    "    return cmath.sqrt( (omega * mu * 1j) / (sigma + omega * epsilon * 1j) )\n",
    "\n",
    "\n",
    "def alpha_conductor(omega, mu, sigma):\n",
    "    \"\"\" Calcula el parámetro de la constante de atenuación para una onda en un medio cualquiera.\n",
    "        @param omega      Frecuencia angular de la onda\n",
    "        @param mu         Permeabilidad del medio\n",
    "        @param sigma      Conductividad del medio\n",
    "        @return alpha     Constante de atenuación del medio\n",
    "    \"\"\"\n",
    "    return math.sqrt(omega * mu * sigma / 2)\n",
    "\n",
    "\n",
    "def beta_conductor(omega, mu, sigma):\n",
    "    \"\"\" Calcula el parámetro de la constante de atenuación para una onda en un medio cualquiera.\n",
    "        @param omega      Frecuencia angular de la onda\n",
    "        @param mu         Permeabilidad del medio\n",
    "        @param sigma      Conductividad del medio\n",
    "        @return alpha     Constante de atenuación del medio\n",
    "    \"\"\"\n",
    "    return math.sqrt(omega * mu * sigma / 2)\n",
    "\n",
    "def impedance_conductor(omega, mu, sigma):\n",
    "    \"\"\" Calcula la impedancia intrínseca del medio.\n",
    "        @param omega      Frecuencia angular de la onda\n",
    "        @param mu         Permeabilidad del medio\n",
    "        @param sigma      Conductividad del medio\n",
    "        @return eta       Impedancia intrínseca del medio\n",
    "    \"\"\"\n",
    "    return cmath.sqrt( omega * mu / sigma) * cmath.exp(math.pi / 4 * 1j)\n",
    "\n",
    "def reflection_coef(eta_1, eta_2):\n",
    "    \"\"\" Calcula el coeficiente de reflexión del medio 1 al medio 2.\n",
    "        @param eta_1     Impedancia intrinseca del primer medio\n",
    "        @param eta_2     Impedancia intrinseca del segundo medio\n",
    "    \"\"\"\n",
    "    return (eta_2 - eta_1) / (eta_2 + eta_1)\n",
    "\n",
    "def transmission_coef(eta_1, eta_2):\n",
    "    \"\"\" Calcula el coeficiente de transmisión del medio 1 al medio 2.\n",
    "        @param eta_1     Impedancia intrinseca del primer medio\n",
    "        @param eta_2     Impedancia intrinseca del segundo medio\n",
    "    \"\"\"\n",
    "    return (eta_2 * 2) / (eta_2 + eta_1)\n",
    "\n",
    "def reflectivity_coef(r):\n",
    "    \"\"\" Devuelve el coeficiente de reflectividad a partir del coeficiente de reflexión.\n",
    "        @param r      Coeficiente de reflexión\n",
    "    \"\"\"\n",
    "    return abs(r)**2\n",
    "\n",
    "def transmissivity_coef(t):\n",
    "    \"\"\" Devuelve el coeficiente de transmisividad a partir del coeficiente de reflexión.\n",
    "        @param t      Coeficiente de transmisión\n",
    "    \"\"\"\n",
    "    return abs(t)**2"
   ]
  },
  {
   "cell_type": "code",
   "execution_count": 47,
   "metadata": {},
   "outputs": [
    {
     "name": "stdout",
     "output_type": "stream",
     "text": [
      "Alfa=0.5502550934516584 Beta=1.4349133001828631 Impedance=102.75480431072266 0.3661810689611626\n"
     ]
    }
   ],
   "source": [
    "# Ejercicio 11 (pruebas del código de parámetros)\n",
    "sigma = 10**-2\n",
    "eps = eps_0 * 10\n",
    "mu = mu_0\n",
    "f = 20 * 10**6\n",
    "omega = 2 * math.pi * f\n",
    "\n",
    "a = alpha(omega, mu, eps, sigma)\n",
    "b = beta(omega, mu, eps, sigma)\n",
    "e = impedance(omega, mu, eps, sigma)\n",
    "\n",
    "print(f'Alfa={a} Beta={b} Impedance={abs(e)} {cmath.phase(e)}')"
   ]
  },
  {
   "cell_type": "code",
   "execution_count": 72,
   "metadata": {},
   "outputs": [
    {
     "name": "stdout",
     "output_type": "stream",
     "text": [
      "t12 = (1.6674260098807883e-08+1.6674259820776935e-08j)\n",
      "t23 = (1.9999999833257402-1.6674259820776935e-08j)\n",
      "r21 = (0.9999999833257401-1.6674259820776935e-08j)\n",
      "r23 = (0.9999999833257401-1.6674259820776935e-08j)\n",
      "El tita = 0.12566370614359174\n",
      "Alfa=125.66370614359172\n",
      "El tau=(6.255345711462555e-08+3.833992182242579e-08j)\n",
      "El EA=142.68984930439507dB\n"
     ]
    }
   ],
   "source": [
    "# Ejercicio 24\n",
    "sigma = 4 * 10**7\n",
    "d = 1 * 10**-3\n",
    "f = 100\n",
    "omega = 2 * math.pi * f\n",
    "\n",
    "eta_1 = eta_0\n",
    "eta_2 = impedance_conductor(omega, mu_0, sigma)\n",
    "eta_3 = eta_0\n",
    "\n",
    "a = alpha_conductor(omega, mu_0, sigma)\n",
    "b = beta_conductor(omega, mu_0, sigma)\n",
    "tita = b*d\n",
    "\n",
    "t12 = transmission_coef(eta_1, eta_2)\n",
    "t23 = transmission_coef(eta_2, eta_3)\n",
    "r21 = reflection_coef(eta_2, eta_1)\n",
    "r23 = reflection_coef(eta_2, eta_3)\n",
    "\n",
    "print(f't12 = {t12}')\n",
    "print(f't23 = {t23}')\n",
    "print(f'r21 = {r21}')\n",
    "print(f'r23 = {r23}')\n",
    "print(f'El tita = {tita}')\n",
    "print(f'Alfa={a}')\n",
    "tau = t12 * t23 * cmath.exp(-a * d) * cmath.exp(-tita*1j) * (1 + r21 * r23 * cmath.exp(-a * d * 2) * cmath.exp(-tita*2*1j))\n",
    "print(f'El tau={tau}')\n",
    "print(f'El EA={20*math.log10(1/abs(tau))}dB')"
   ]
  },
  {
   "cell_type": "code",
   "execution_count": 64,
   "metadata": {},
   "outputs": [
    {
     "name": "stdout",
     "output_type": "stream",
     "text": [
      "Se está transmitiendo 39.29%\n",
      "La grasa tiene una profundidad de penetración de 12.75 cm\n",
      "t12 = (0.5795798060473069+0.06972209948091476j)\n",
      "t23 = (0.47767504679570844+0.03915448269775823j)\n",
      "r21 = (0.4204201939526932-0.06972209948091476j)\n",
      "r23 = (-0.5223249532042915+0.039154482697758224j)\n",
      "Alfa=7.845337440966583\n",
      "El tita=1.8417437047060432\n",
      "El tau total=(-0.032493358236296566-0.22000010992742758j)\n",
      "Se está transmitiendo 4.95%\n"
     ]
    }
   ],
   "source": [
    "# Ejercicio 25\n",
    "f = 915 * 10**6\n",
    "omega = 2 * math.pi * f\n",
    "d = 4 * 10**-2\n",
    "\n",
    "sigma_musculo = 1.6\n",
    "epsilon_musculo = 51 * eps_0\n",
    "mu_musculo = mu_0\n",
    "\n",
    "sigma_grasa = 0.1\n",
    "epsilon_grasa = 5.6 * eps_0\n",
    "mu_grasa = mu_0\n",
    "\n",
    "# Calculando para el item (a)\n",
    "eta_1 = eta_0\n",
    "eta_3 = impedance(omega, mu_musculo, epsilon_musculo, sigma_musculo)\n",
    "r_a = reflection_coef(eta_1, eta_3)\n",
    "R_a = reflectivity_coef(r_a)\n",
    "\n",
    "print(f'Se está transmitiendo {round((1-R_a)*100, 2)}%')\n",
    "\n",
    "# Calculando para el item (b)\n",
    "eta_2 = impedance(omega, mu_grasa, epsilon_grasa, sigma_grasa)\n",
    "alpha_grasa = alpha(omega, mu_grasa, epsilon_grasa, sigma_grasa)\n",
    "beta_grasa = beta(omega, mu_grasa, epsilon_grasa, sigma_grasa)\n",
    "prof_grasa = 1 / alpha_grasa\n",
    "\n",
    "print(f'La grasa tiene una profundidad de penetración de {round(prof_grasa, 4) * 100} cm')\n",
    "\n",
    "t12 = transmission_coef(eta_1, eta_2)\n",
    "t23 = transmission_coef(eta_2, eta_3)\n",
    "r21 = reflection_coef(eta_2, eta_1)\n",
    "r23 = reflection_coef(eta_2, eta_3)\n",
    "tita = beta_grasa*d\n",
    "\n",
    "print(f't12 = {t12}')\n",
    "print(f't23 = {t23}')\n",
    "print(f'r21 = {r21}')\n",
    "print(f'r23 = {r23}')\n",
    "\n",
    "tau = t12 * t23 * cmath.exp(-alpha_grasa * d) * cmath.exp(-tita*1j) * (1 + r21 * r23 * cmath.exp(-alpha_grasa * d * 2) * cmath.exp(-tita*2*1j))\n",
    "T = transmissivity_coef(tau)\n",
    "\n",
    "print(f'Alfa={alpha_grasa}')\n",
    "print(f'El tita={tita}')\n",
    "print(f'El tau total={tau}')\n",
    "print(f'Se está transmitiendo {round(T, 4)*100}%')"
   ]
  },
  {
   "cell_type": "code",
   "execution_count": 82,
   "metadata": {},
   "outputs": [
    {
     "data": {
      "image/png": "[encoded data removed]",
      "text/plain": [
       "<Figure size 432x288 with 1 Axes>"
      ]
     },
     "metadata": {
      "needs_background": "light"
     },
     "output_type": "display_data"
    }
   ],
   "source": [
    "# Ejercicio 26\n",
    "import numpy as np\n",
    "from matplotlib import pyplot\n",
    "\n",
    "h1 = 100\n",
    "h2 = 3\n",
    "londa = 0.375\n",
    "delta = lambda R: (4*math.pi*h1*h2) / (R*londa)\n",
    "R = np.arange(1000, 30000, 1)\n",
    "E = np.sqrt(120) * np.sqrt(1 + np.cos(delta(R))) / R\n",
    "\n",
    "pyplot.semilogx(R, E)\n",
    "pyplot.show()"
   ]
  }
 ],
 "metadata": {
  "kernelspec": {
   "display_name": "Python 3",
   "language": "python",
   "name": "python3"
  },
  "language_info": {
   "codemirror_mode": {
    "name": "ipython",
    "version": 3
   },
   "file_extension": ".py",
   "mimetype": "text/x-python",
   "name": "python",
   "nbconvert_exporter": "python",
   "pygments_lexer": "ipython3",
   "version": "3.8.5"
  }
 },
 "nbformat": 4,
 "nbformat_minor": 4
}
