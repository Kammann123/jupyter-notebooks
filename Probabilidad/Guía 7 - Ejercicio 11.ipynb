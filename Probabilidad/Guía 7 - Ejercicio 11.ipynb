{
 "cells": [
  {
   "cell_type": "code",
   "execution_count": 23,
   "metadata": {},
   "outputs": [],
   "source": [
    "from random import random\n",
    "from math import sqrt\n",
    "\n",
    "def generate(count: int) -> float:\n",
    "    \"\"\" Genera un numero al azar con un patrón extraño\n",
    "        provisto por la consigna del ejercicio.\n",
    "        :parametro count: Cantidad de valores a sumar\n",
    "    \"\"\"\n",
    "    x = [random() for i in range(count)]\n",
    "    return (sum(x) - 5) / (sqrt(10 / 12))"
   ]
  },
  {
   "cell_type": "code",
   "execution_count": 27,
   "metadata": {},
   "outputs": [
    {
     "data": {
      "image/png": "[encoded data removed]",
      "text/plain": [
       "<Figure size 432x288 with 1 Axes>"
      ]
     },
     "metadata": {
      "needs_background": "light"
     },
     "output_type": "display_data"
    }
   ],
   "source": [
    "# Genero 2000 veces el numero\n",
    "count = 2000\n",
    "x = [generate(10) for i in range(count)]\n",
    "\n",
    "# Dibujo el histograma\n",
    "from matplotlib import pyplot\n",
    "pyplot.hist(x)\n",
    "pyplot.grid()\n",
    "pyplot.show()"
   ]
  }
 ],
 "metadata": {
  "kernelspec": {
   "display_name": "Python 3",
   "language": "python",
   "name": "python3"
  },
  "language_info": {
   "codemirror_mode": {
    "name": "ipython",
    "version": 3
   },
   "file_extension": ".py",
   "mimetype": "text/x-python",
   "name": "python",
   "nbconvert_exporter": "python",
   "pygments_lexer": "ipython3",
   "version": "3.7.4"
  }
 },
 "nbformat": 4,
 "nbformat_minor": 4
}
