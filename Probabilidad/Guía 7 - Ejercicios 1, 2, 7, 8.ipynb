{
 "cells": [
  {
   "cell_type": "code",
   "execution_count": 3,
   "metadata": {},
   "outputs": [],
   "source": [
    "# Función de probabilidad de una variable aleatoria con distribución binomial\n",
    "from scipy import special\n",
    "\n",
    "def binomial(p: float, n: int, k: int):\n",
    "    if (0 <= k <= n):\n",
    "        return (special.comb(n, k) * ((p)**k) * ((1 - p)**(n-k)))\n",
    "    else:\n",
    "        raise ValueError(\"Valor 'k' no valido, debe estar entre 0 y n\")"
   ]
  },
  {
   "cell_type": "code",
   "execution_count": 4,
   "metadata": {},
   "outputs": [
    {
     "data": {
      "text/plain": [
       "0.9831"
      ]
     },
     "execution_count": 4,
     "metadata": {},
     "output_type": "execute_result"
    }
   ],
   "source": [
    "# Caso particular del ejercicio 1\n",
    "p = 0.8\n",
    "n = 100\n",
    "prob = 0\n",
    "for i in range(71, 90):\n",
    "    prob += binomial(p, n, i)\n",
    "\n",
    "# Resultado numérico\n",
    "round(prob, 4)"
   ]
  },
  {
   "cell_type": "code",
   "execution_count": 5,
   "metadata": {},
   "outputs": [
    {
     "data": {
      "text/plain": [
       "0.9601"
      ]
     },
     "execution_count": 5,
     "metadata": {},
     "output_type": "execute_result"
    }
   ],
   "source": [
    "# Caso particular del ejercicio 2\n",
    "p = 0.1\n",
    "n = 100\n",
    "prob = 0\n",
    "for i in range(1, 16):\n",
    "    prob += binomial(p, n, i)\n",
    "\n",
    "# Resultado numérico\n",
    "round(prob, 4)"
   ]
  },
  {
   "cell_type": "code",
   "execution_count": 6,
   "metadata": {},
   "outputs": [],
   "source": [
    "from scipy import special\n",
    "from math import *\n",
    "\n",
    "def poisson(l: float, k: int):\n",
    "    return ((l) ** (k)) * (exp(-l)) / (special.factorial(k))"
   ]
  },
  {
   "cell_type": "code",
   "execution_count": 7,
   "metadata": {},
   "outputs": [
    {
     "data": {
      "text/plain": [
       "0.2511"
      ]
     },
     "execution_count": 7,
     "metadata": {},
     "output_type": "execute_result"
    }
   ],
   "source": [
    "# Caso particular del ejercicio 7\n",
    "l = 0.3\n",
    "n = 50\n",
    "prob = 1\n",
    "for i in range(1, 18):\n",
    "    prob -= poisson(l * n, i)\n",
    "\n",
    "# Resultado numérico\n",
    "round(prob, 4)"
   ]
  },
  {
   "cell_type": "code",
   "execution_count": 16,
   "metadata": {},
   "outputs": [
    {
     "data": {
      "text/plain": [
       "0.1719"
      ]
     },
     "execution_count": 16,
     "metadata": {},
     "output_type": "execute_result"
    }
   ],
   "source": [
    "# Caso particular del ejercicio 8\n",
    "l = 27\n",
    "n = 3\n",
    "prob = 1\n",
    "for i in range(0, 90):\n",
    "    prob -= poisson(n * l, i)\n",
    "    \n",
    "# Resultado numérico\n",
    "round(prob, 4)"
   ]
  }
 ],
 "metadata": {
  "kernelspec": {
   "display_name": "Python 3",
   "language": "python",
   "name": "python3"
  },
  "language_info": {
   "codemirror_mode": {
    "name": "ipython",
    "version": 3
   },
   "file_extension": ".py",
   "mimetype": "text/x-python",
   "name": "python",
   "nbconvert_exporter": "python",
   "pygments_lexer": "ipython3",
   "version": "3.7.4"
  }
 },
 "nbformat": 4,
 "nbformat_minor": 4
}
